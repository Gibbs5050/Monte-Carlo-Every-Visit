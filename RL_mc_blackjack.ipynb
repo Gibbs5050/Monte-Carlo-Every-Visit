{
 "cells": [
  {
   "cell_type": "markdown",
   "id": "4df148fc",
   "metadata": {},
   "source": [
    "#  Gibbs - Every-Visit Monte Carlo Epsilon Greedy Strategy on Blackjack\n",
    "This implements the Every-visit MC learning method with the constant alpha + epsilon greedy strategy method in solving the open AI Blackjack Gym environment. \n",
    "\n"
   ]
  },
  {
   "cell_type": "code",
   "execution_count": null,
   "id": "a06aac41",
   "metadata": {},
   "outputs": [],
   "source": [
    "#installing dependencies\n",
    "#!pip install --upgrade pip\n",
    "#!pip install stable-baselines3"
   ]
  },
  {
   "cell_type": "code",
   "execution_count": 1,
   "id": "46a40709",
   "metadata": {},
   "outputs": [],
   "source": [
    "#importing dependencies\n",
    "import numpy as np\n",
    "import gym\n",
    "from collections import defaultdict\n",
    "import sys\n",
    "import json \n",
    "from plot_utils import plot_policy, plot_win_rate"
   ]
  },
  {
   "cell_type": "code",
   "execution_count": 2,
   "id": "7f200e1b",
   "metadata": {},
   "outputs": [],
   "source": [
    "#defining environment to use\n",
    "env = gym.make('Blackjack-v1')\n"
   ]
  },
  {
   "cell_type": "code",
   "execution_count": 14,
   "id": "00d8ae42",
   "metadata": {},
   "outputs": [
    {
     "name": "stdout",
     "output_type": "stream",
     "text": [
      "(8, 10, False)\n",
      "2\n"
     ]
    },
    {
     "data": {
      "text/plain": [
       "\"'result shows we have a 3 variable tuple. row 1,column 1 gives the player sum (sum of value of the cards recieved by the player)\\n#, row 1, column 2 shows the displayed dealers card - value for card displayed, row 1, column 3 shows whether or not a player has a reusable ace \""
      ]
     },
     "execution_count": 14,
     "metadata": {},
     "output_type": "execute_result"
    }
   ],
   "source": [
    "#Inspecting the environment to see what it contains\n",
    "state = env.reset()\n",
    "action_space = env.action_space.n\n",
    "print(state)\n",
    "print(action_space)\n",
    "''''result shows we have a 3 variable tuple. row 1,column 1 gives the player sum (sum of value of the cards recieved by the player)\n",
    "#, row 1, column 2 shows the displayed dealers card - value for card displayed, row 1, column 3 shows whether or not a player has a reusable ace ''' "
   ]
  },
  {
   "cell_type": "code",
   "execution_count": 4,
   "id": "ada60ef4",
   "metadata": {
    "scrolled": false
   },
   "outputs": [
    {
     "name": "stdout",
     "output_type": "stream",
     "text": [
      "(12, 10, False)\n",
      "Game Over! Total Reward:  -1.0\n",
      "You lost :(\n",
      "\n",
      "(9, 10, False)\n",
      "(15, 10, False)\n",
      "Game Over! Total Reward:  -1.0\n",
      "You lost :(\n",
      "\n",
      "(11, 10, False)\n",
      "(21, 10, False)\n",
      "Game Over! Total Reward:  1.0\n",
      "You won :)\n",
      "\n",
      "(11, 2, False)\n",
      "(21, 2, False)\n",
      "Game Over! Total Reward:  -1.0\n",
      "You lost :(\n",
      "\n"
     ]
    }
   ],
   "source": [
    "#playing BlackJack with Random policy\n",
    "for i_episode in range(4):\n",
    "    state = env.reset()\n",
    "    while True:\n",
    "        print(state)\n",
    "        action = env.action_space.sample()\n",
    "        state, reward, done, info = env.step(action)\n",
    "        if done:\n",
    "            print('Game Over! Total Reward: ', reward)\n",
    "            print('You won :)\\n') if reward > 0 else print('You lost :(\\n')\n",
    "            break"
   ]
  },
  {
   "cell_type": "code",
   "execution_count": 5,
   "id": "a3d9760f",
   "metadata": {},
   "outputs": [],
   "source": [
    "# hyperparameters \n",
    "num_episodes = 1000000\n",
    "epsilon = 1\n",
    "epsilon_min = 0.07\n",
    "gamma = 1 \n",
    "alpha = 0.02"
   ]
  },
  {
   "cell_type": "code",
   "execution_count": 6,
   "id": "3052d58a",
   "metadata": {},
   "outputs": [],
   "source": [
    "#initialise Q function\n",
    "def monte_carlo_control(num_episodes, epsilon, epsilon_min, alpha, gamma): \n",
    "    \n",
    "    # defining the Q function \n",
    "    Q = defaultdict(lambda: np.zeros(2))\n",
    "    rewards_all_episodes = []\n",
    "    \n",
    "    # generating all of the episodes \n",
    "    for episode in range(1, num_episodes + 1): \n",
    "        epsilon = max(epsilon_min, epsilon * 0.99992)\n",
    "        \n",
    "        if episode % 1000 == 0:\n",
    "            print(\"\\rEpisode {}/{}.\".format(episode, num_episodes), end=\"\")\n",
    "            sys.stdout.flush()\n",
    "        \n",
    "        # extracting states, actions, rewards from generated episodes \n",
    "        experience = generate_episode(Q, epsilon)\n",
    "        states, actions, rewards = zip(*experience)\n",
    "        rewards = np.array(rewards)\n",
    "        rewards_all_episodes.append(sum(rewards))\n",
    "        \n",
    "        \n",
    "        # looping over all of the timesteps \n",
    "        for i, state in enumerate(states):\n",
    "            discounts = np.array([gamma ** i for i in range(len(rewards[i: ]))])\n",
    "            returns = sum(rewards[i: ] * discounts)\n",
    "            \n",
    "            # updating the Q_function using the monte carlo constant alpha update rule \n",
    "            Q[state][actions[i]] += alpha * (returns - Q[state][actions[i]])\n",
    "            policy = dict((state, np.argmax(q_value)) for state, q_value in Q.items())\n",
    "        \n",
    "    return Q, policy, rewards_all_episodes"
   ]
  },
  {
   "cell_type": "code",
   "execution_count": 7,
   "id": "fbd20f0a",
   "metadata": {},
   "outputs": [],
   "source": [
    "def generate_episode(Q, epsilon):\n",
    "    state = env.reset()\n",
    "    episode = []\n",
    "    \n",
    "    while True: \n",
    "        \n",
    "        # sampling actions using the Epsilon Greedy Policy \n",
    "        action = epsilon_greedy_policy(Q, state, epsilon)\n",
    "        next_state, reward, done, info = env.step(action)\n",
    "        state = next_state\n",
    "        episode.append((state, action, reward))\n",
    "    \n",
    "        if done == True:\n",
    "            break\n",
    "    \n",
    "    return episode "
   ]
  },
  {
   "cell_type": "code",
   "execution_count": 8,
   "id": "f7ab791d",
   "metadata": {},
   "outputs": [],
   "source": [
    "def epsilon_greedy_policy(Q, state, epsilon):\n",
    "    probs = np.zeros(2)\n",
    "    optimal_action = np.argmax(Q[state]) #capture most optimal action\n",
    "    sub_optimal_action = np.abs(optimal_action - 1)  #capturing suboptimal action\n",
    "    \n",
    "    #define probabilities\n",
    "    probs[optimal_action] = 1 - epsilon + (epsilon / 2)\n",
    "    probs[sub_optimal_action] = epsilon / 2\n",
    "    \n",
    "    # choose an action according to the probabilites \n",
    "    action = np.random.choice(np.arange(2), p = probs)\n",
    "    \n",
    "    return action "
   ]
  },
  {
   "cell_type": "code",
   "execution_count": 9,
   "id": "3a524ed9",
   "metadata": {},
   "outputs": [
    {
     "data": {
      "text/plain": [
       "[((13, 5, False), 0, 1.0)]"
      ]
     },
     "execution_count": 9,
     "metadata": {},
     "output_type": "execute_result"
    }
   ],
   "source": [
    "#test action\n",
    "Q = defaultdict(lambda: np.zeros(2))\n",
    "generate_episode(Q, 0.4)"
   ]
  },
  {
   "cell_type": "code",
   "execution_count": 10,
   "id": "4904a56b",
   "metadata": {},
   "outputs": [
    {
     "name": "stdout",
     "output_type": "stream",
     "text": [
      "Episode 1000000/1000000."
     ]
    }
   ],
   "source": [
    "Q, policy, rewards_all_episodes = monte_carlo_control(num_episodes, epsilon, epsilon_min, alpha, gamma)"
   ]
  },
  {
   "cell_type": "code",
   "execution_count": 11,
   "id": "66727e51",
   "metadata": {},
   "outputs": [
    {
     "name": "stdout",
     "output_type": "stream",
     "text": [
      "defaultdict(<function monte_carlo_control.<locals>.<lambda> at 0x000001EC3081C1F0>, {(20, 2, False): array([0.53437769, 0.50884163]), (14, 3, False): array([-0.29112365, -0.29501022]), (17, 3, False): array([-0.14029448, -0.15339478]), (21, 3, False): array([0.91960379, 0.81858968]), (19, 10, False): array([ 0.08970246, -0.04505781]), (29, 10, False): array([ 0., -1.]), (13, 10, False): array([-0.73268242, -0.58984969]), (10, 10, False): array([-0.62596602, -0.13813195]), (12, 10, False): array([-0.62592365, -0.45132769]), (9, 6, False): array([-0.09515503, -0.06484002]), (11, 6, False): array([-0.18687297,  0.42039248]), (20, 6, False): array([0.68060207, 0.62677985]), (26, 6, False): array([ 0., -1.]), (13, 8, False): array([-0.53804045, -0.19694409]), (12, 5, False): array([-0.3897733 , -0.34410146]), (20, 5, False): array([0.77451714, 0.61228392]), (9, 4, False): array([-0.12094374, -0.03063094]), (16, 4, False): array([-0.18780122, -0.18362729]), (22, 10, False): array([ 0., -1.]), (20, 10, False): array([0.39454328, 0.38924645]), (15, 10, False): array([-0.63001041, -0.45550303]), (25, 10, False): array([ 0., -1.]), (20, 7, False): array([0.76103667, 0.66334585]), (28, 7, False): array([ 0.        , -0.99907908]), (21, 3, True): array([0.96287094, 0.83718693]), (8, 2, False): array([-0.43551597, -0.03845076]), (14, 7, False): array([-0.55454749, -0.4622167 ]), (24, 7, False): array([ 0., -1.]), (21, 10, False): array([0.89405147, 0.85985539]), (20, 9, False): array([0.68935701, 0.67905505]), (7, 7, False): array([-0.47469712, -0.37539622]), (11, 7, False): array([-0.42254925,  0.1725307 ]), (21, 7, False): array([0.95662746, 0.82389078]), (11, 8, False): array([-0.45469688,  0.28595869]), (17, 10, True): array([-0.56069597, -0.32196014]), (19, 1, False): array([-0.142847  , -0.19862668]), (26, 1, False): array([ 0., -1.]), (12, 1, False): array([-0.81039597, -0.56313852]), (8, 8, False): array([-0.43220063, -0.08354888]), (16, 10, False): array([-0.62923494, -0.65796542]), (21, 5, True): array([0.97380261, 0.89943683]), (12, 9, False): array([-0.66272948, -0.4188771 ]), (14, 10, False): array([-0.72315073, -0.43350342]), (27, 6, False): array([ 0.        , -0.99999373]), (15, 3, False): array([-0.27739729, -0.37185077]), (16, 3, False): array([-0.18203162, -0.2930937 ]), (12, 8, False): array([-0.55277465, -0.28693646]), (12, 2, False): array([-0.42849098, -0.41804577]), (16, 5, False): array([-0.07207985, -0.3566588 ]), (26, 5, False): array([ 0.        , -0.99999999]), (23, 10, False): array([ 0., -1.]), (18, 5, False): array([0.19064664, 0.08623729]), (25, 5, False): array([ 0., -1.]), (12, 7, False): array([-0.52917099, -0.42228997]), (22, 7, False): array([ 0., -1.]), (30, 10, False): array([ 0., -1.]), (26, 2, False): array([ 0., -1.]), (17, 5, False): array([-0.34820205, -0.29488904]), (22, 5, False): array([ 0., -1.]), (17, 6, False): array([ 0.03491729, -0.0568214 ]), (18, 6, False): array([0.17114706, 0.07789242]), (8, 7, False): array([-0.24593138, -0.06616167]), (14, 9, False): array([-0.63407104, -0.61482925]), (15, 9, False): array([-0.56348005, -0.5436841 ]), (17, 9, False): array([-0.48439753, -0.47621652]), (22, 9, False): array([ 0., -1.]), (24, 9, False): array([ 0., -1.]), (19, 3, False): array([0.42176983, 0.3827418 ]), (25, 3, False): array([ 0., -1.]), (21, 8, True): array([0.98975851, 0.87743189]), (14, 8, False): array([-0.50823973, -0.48775387]), (24, 8, False): array([ 0., -1.]), (18, 10, False): array([-0.32961218, -0.33420356]), (27, 10, False): array([ 0., -1.]), (17, 10, False): array([-0.3891314 , -0.40761091]), (13, 6, False): array([-0.3014095 , -0.31438611]), (23, 6, False): array([ 0., -1.]), (21, 10, True): array([0.97622419, 0.85842387]), (9, 10, False): array([-0.63070625, -0.36672997]), (26, 10, False): array([ 0., -1.]), (19, 7, False): array([0.49097145, 0.39760544]), (11, 10, False): array([-0.51893716, -0.02733254]), (12, 4, False): array([-0.40340092, -0.08444056]), (22, 4, False): array([ 0., -1.]), (26, 4, False): array([ 0.        , -0.99999999]), (13, 3, False): array([-0.2570197 , -0.33225152]), (31, 3, False): array([ 0.       , -0.6130761]), (14, 4, False): array([-0.44109099, -0.4309276 ]), (24, 4, False): array([ 0., -1.]), (17, 4, False): array([ 0.08702907, -0.02214057]), (27, 4, False): array([ 0.        , -0.99998851]), (4, 10, False): array([-0.42892539,  0.        ]), (13, 9, False): array([-0.5882675 , -0.34958663]), (23, 9, False): array([ 0., -1.]), (19, 4, False): array([0.49695237, 0.37420868]), (14, 2, False): array([-0.22041795, -0.36888019]), (20, 9, True): array([0.75935009, 0.66042118]), (11, 1, False): array([-0.81448369, -0.25662354]), (8, 1, False): array([-0.74754366, -0.59966951]), (17, 1, False): array([-0.71649677, -0.56185125]), (14, 1, False): array([-0.75602023, -0.63208075]), (21, 1, False): array([0.68790884, 0.57871883]), (27, 1, False): array([ 0., -1.]), (13, 2, False): array([-0.43678391, -0.29304432]), (19, 2, False): array([0.37056674, 0.2977471 ]), (15, 7, False): array([-0.40711003, -0.49201138]), (9, 5, False): array([0.02173457, 0.09838262]), (11, 5, False): array([-0.11489853,  0.17625283]), (20, 3, False): array([0.6926977 , 0.60499259]), (16, 2, True): array([-0.30815706, -0.15450105]), (16, 2, False): array([-0.48601784, -0.48747721]), (15, 2, False): array([-0.41616388, -0.44539564]), (17, 2, False): array([-0.13855044, -0.18934981]), (13, 10, True): array([-0.39440562, -0.24193091]), (21, 9, True): array([0.98623414, 0.89578348]), (21, 6, True): array([0.99074231, 0.9216037 ]), (7, 2, False): array([-0.18265336, -0.0908677 ]), (21, 5, False): array([0.88632177, 0.80626576]), (31, 5, False): array([ 0.        , -0.51678687]), (11, 3, False): array([-0.18380022,  0.18740997]), (20, 8, False): array([0.89362154, 0.75278256]), (29, 8, False): array([ 0.       , -0.9805426]), (16, 8, False): array([-0.54901816, -0.43972866]), (26, 8, False): array([ 0., -1.]), (10, 2, False): array([-0.40485138,  0.03463276]), (17, 8, False): array([-0.4475364 , -0.32955408]), (21, 8, False): array([0.94856527, 0.89986157]), (23, 8, False): array([ 0., -1.]), (24, 10, False): array([ 0., -1.]), (13, 4, False): array([-0.46060478, -0.4759903 ]), (18, 3, False): array([0.04086985, 0.01756848]), (10, 8, False): array([-0.48709577,  0.16329293]), (19, 9, False): array([0.29603895, 0.26186484]), (20, 4, False): array([0.65684107, 0.58649936]), (17, 7, False): array([-0.09813759, -0.04706518]), (27, 7, False): array([ 0.        , -0.99999703]), (19, 10, True): array([-0.20074219, -0.20233838]), (15, 5, False): array([-0.24435231, -0.33728076]), (19, 5, False): array([0.50808049, 0.39417158]), (15, 9, True): array([-0.27660315, -0.21322676]), (19, 4, True): array([0.48226328, 0.31107037]), (23, 3, False): array([ 0., -1.]), (19, 5, True): array([0.39273172, 0.30057684]), (22, 6, False): array([ 0., -1.]), (15, 10, True): array([-0.66145765, -0.29554887]), (15, 1, False): array([-0.86476889, -0.62148168]), (25, 1, False): array([ 0., -1.]), (12, 3, False): array([-0.33011104, -0.249078  ]), (22, 1, False): array([ 0., -1.]), (6, 10, False): array([-0.51966647, -0.39062426]), (8, 4, False): array([-0.25385304,  0.05464853]), (15, 3, True): array([-0.32346337, -0.11173438]), (17, 6, True): array([-0.03618006,  0.14024032]), (21, 6, False): array([0.93249776, 0.86519315]), (10, 6, False): array([-0.16699135,  0.2347899 ]), (25, 2, False): array([ 0., -1.]), (13, 7, False): array([-0.5847209 , -0.43786119]), (11, 9, False): array([-0.5360919 ,  0.05594079]), (6, 3, False): array([-0.21361533, -0.11303967]), (18, 4, False): array([0.13280303, 0.09501453]), (28, 4, False): array([ 0.        , -0.99921651]), (15, 4, False): array([-0.14712281, -0.2935712 ]), (16, 7, False): array([-0.54483607, -0.52574604]), (26, 7, False): array([ 0., -1.]), (7, 10, False): array([-0.77395243, -0.40608857]), (23, 4, False): array([ 0., -1.]), (13, 3, True): array([-0.15444315,  0.01577207]), (21, 7, True): array([0.99561343, 0.91203492]), (14, 6, False): array([-0.15450115, -0.1208631 ]), (16, 6, False): array([-0.09854296, -0.25879907]), (30, 7, False): array([ 0.      , -0.987774]), (8, 10, False): array([-0.50472801, -0.5046986 ]), (29, 2, False): array([ 0.        , -0.99517293]), (18, 9, False): array([-0.17201282, -0.21525079]), (15, 8, False): array([-0.54806433, -0.52461511]), (18, 8, False): array([0.16966575, 0.10906185]), (31, 8, False): array([ 0.        , -0.73103553]), (17, 3, True): array([-0.12624482, -0.07333335]), (10, 9, False): array([-0.50115078,  0.08200531]), (16, 1, False): array([-0.76674652, -0.72863892]), (22, 3, False): array([ 0., -1.]), (24, 6, False): array([ 0., -1.]), (29, 9, False): array([ 0.        , -0.99021026]), (26, 9, False): array([ 0., -1.]), (14, 10, True): array([-0.57414052, -0.20358726]), (5, 4, False): array([-0.20550907,  0.        ]), (18, 7, False): array([0.13584653, 0.12223411]), (21, 2, True): array([0.9976279 , 0.92313668]), (28, 9, False): array([ 0.        , -0.99994557]), (25, 4, False): array([ 0., -1.]), (29, 7, False): array([ 0.        , -0.99167125]), (29, 3, False): array([ 0.        , -0.99001047]), (18, 1, False): array([-0.22402518, -0.28968334]), (10, 1, False): array([-0.59784   , -0.33511254]), (20, 1, False): array([0.18586161, 0.03786543]), (30, 1, False): array([ 0.        , -0.99967791]), (28, 3, False): array([ 0.        , -0.99969066]), (19, 6, False): array([0.47501941, 0.37534072]), (28, 6, False): array([ 0.        , -0.99907908]), (21, 1, True): array([0.6440684, 0.5962707]), (25, 9, False): array([ 0., -1.]), (28, 10, False): array([ 0., -1.]), (18, 2, False): array([-0.0192225 , -0.06294974]), (21, 4, False): array([0.90349837, 0.84591672]), (21, 2, False): array([0.92087249, 0.88067901]), (15, 6, False): array([-0.34717832, -0.25330226]), (20, 8, True): array([0.74029783, 0.70586552]), (19, 8, False): array([0.62093642, 0.55654063]), (4, 2, False): array([-0.06289326,  0.        ]), (12, 10, True): array([-0.41719143,  0.        ]), (16, 10, True): array([-0.53576998, -0.23351572]), (20, 10, True): array([0.38530356, 0.33533628]), (31, 10, False): array([ 0.        , -0.98591678]), (23, 7, False): array([ 0., -1.]), (27, 3, False): array([ 0.        , -0.99999908]), (19, 7, True): array([0.57266906, 0.52166572]), (15, 4, True): array([-0.30129627, -0.21271122]), (18, 4, True): array([-0.06169576, -0.07817136]), (29, 4, False): array([ 0.        , -0.98377744]), (7, 3, False): array([-0.10903166, -0.0521449 ]), (19, 2, True): array([0.43060061, 0.38486596]), (10, 3, False): array([-0.2140389 ,  0.29503322]), (12, 6, False): array([-0.24387251, -0.118397  ]), (13, 5, False): array([-0.32497911, -0.08062634]), (30, 8, False): array([ 0.        , -0.98674499]), (25, 8, False): array([ 0., -1.]), (10, 5, False): array([-0.06758759,  0.13333213]), (28, 5, False): array([ 0.        , -0.99935984]), (14, 5, False): array([-0.31911268, -0.35161856]), (22, 2, False): array([ 0., -1.]), (7, 6, False): array([-0.22713779, -0.17530637]), (8, 6, False): array([-0.17178663, -0.02461248]), (31, 4, False): array([ 0.        , -0.62839829]), (9, 8, False): array([-0.52053103,  0.00942714]), (14, 9, True): array([-0.39647264, -0.33371174]), (23, 1, False): array([ 0., -1.]), (28, 8, False): array([ 0.        , -0.99953665]), (17, 7, True): array([-0.19286157,  0.01380613]), (6, 6, False): array([-0.15488571, -0.00537853]), (16, 9, False): array([-0.70136737, -0.51148987]), (5, 7, False): array([-0.31739884,  0.        ]), (23, 2, False): array([ 0., -1.]), (24, 3, False): array([ 0., -1.]), (6, 1, False): array([-0.54444059, -0.31873904]), (21, 9, False): array([0.92671442, 0.86959659]), (9, 7, False): array([-0.48706026,  0.09379707]), (31, 6, False): array([ 0.        , -0.54520367]), (6, 8, False): array([-0.36916402,  0.04766955]), (5, 6, False): array([-0.1000906,  0.       ]), (7, 9, False): array([-0.46262554, -0.39943271]), (9, 3, False): array([-0.32387485,  0.06427911]), (9, 2, False): array([-0.27156175,  0.04001779]), (19, 3, True): array([0.56926537, 0.36003943]), (12, 7, True): array([-0.07716817,  0.        ]), (30, 4, False): array([ 0.        , -0.99150127]), (8, 5, False): array([-0.22256951, -0.02453228]), (27, 5, False): array([ 0.        , -0.99998828]), (18, 3, True): array([0.14165184, 0.15827372]), (15, 8, True): array([-0.38993363, -0.20166457]), (13, 1, False): array([-0.82159234, -0.55245826]), (24, 2, False): array([ 0., -1.]), (12, 1, True): array([-0.40860456,  0.        ]), (29, 1, False): array([ 0.        , -0.99949765]), (7, 4, False): array([-0.08850598, -0.35963897]), (5, 10, False): array([-0.51809175,  0.        ]), (18, 1, True): array([-0.50191939, -0.29753115]), (30, 5, False): array([ 0.        , -0.99409223]), (9, 1, False): array([-0.75505017, -0.39366035]), (26, 3, False): array([ 0., -1.]), (24, 1, False): array([ 0., -1.]), (10, 7, False): array([-0.58374525,  0.15344276]), (28, 2, False): array([ 0.        , -0.99945537]), (10, 4, False): array([-0.01877564,  0.12401452]), (15, 5, True): array([-0.1960007 , -0.10463643]), (16, 4, True): array([-0.14816343,  0.12460399]), (5, 3, False): array([-0.10824295,  0.        ]), (20, 3, True): array([0.68375458, 0.54540384]), (20, 1, True): array([0.08468621, 0.10787112]), (31, 7, False): array([ 0.        , -0.73103553]), (21, 4, True): array([0.99696794, 0.91351948]), (11, 2, False): array([-0.21450394,  0.10982875]), (24, 5, False): array([ 0., -1.]), (16, 7, True): array([-0.41418183, -0.0608095 ]), (11, 4, False): array([-0.0406226 ,  0.35792339]), (28, 1, False): array([ 0.        , -0.99999878]), (20, 7, True): array([0.79597314, 0.74377031]), (18, 5, True): array([0.22998245, 0.15736622]), (19, 8, True): array([0.70463077, 0.49861788]), (5, 9, False): array([-0.34203009,  0.        ]), (23, 5, False): array([ 0., -1.]), (16, 9, True): array([-0.41461525, -0.18044558]), (8, 9, False): array([-0.36713623, -0.18945801]), (30, 9, False): array([ 0.        , -0.98441985]), (29, 5, False): array([ 0.        , -0.99476665]), (29, 6, False): array([ 0.        , -0.98014551]), (25, 7, False): array([ 0., -1.]), (18, 7, True): array([0.15578872, 0.24379307]), (17, 4, True): array([-0.15458111,  0.05865787]), (18, 6, True): array([0.32124827, 0.15753203]), (18, 10, True): array([-0.39478436, -0.2689838 ]), (6, 9, False): array([-0.41623612, -0.16437156]), (31, 2, False): array([ 0.        , -0.53592211]), (18, 9, True): array([-0.41567368, -0.44939097]), (14, 1, True): array([-0.52261776, -0.28852066]), (22, 8, False): array([ 0., -1.]), (14, 2, True): array([-0.30848587,  0.01114909]), (25, 6, False): array([ 0., -1.]), (31, 9, False): array([ 0.       , -0.5632136]), (6, 7, False): array([-0.2662845 , -0.07445268]), (14, 7, True): array([-0.19156823,  0.16225524]), (16, 8, True): array([-0.41584038, -0.12846405]), (15, 2, True): array([-0.17491314,  0.04222574]), (14, 6, True): array([-0.09137813,  0.03137001]), (13, 8, True): array([-0.1716702 , -0.08208565]), (13, 9, True): array([-0.24618036, -0.01651401]), (4, 6, False): array([-0.14405118,  0.        ]), (19, 1, True): array([-0.37776528, -0.1995198 ]), (15, 7, True): array([-0.34101831, -0.04376324]), (14, 8, True): array([-0.35740732,  0.02262577]), (6, 5, False): array([-0.29043472, -0.13918579]), (17, 9, True): array([-0.39785971, -0.1774933 ]), (14, 3, True): array([-0.24206296, -0.12917906]), (19, 6, True): array([0.37301776, 0.32578222]), (27, 8, False): array([ 0., -1.]), (30, 6, False): array([ 0.        , -0.99384864]), (20, 2, True): array([0.68892812, 0.60552831]), (12, 8, True): array([-0.15062893,  0.        ]), (4, 3, False): array([-0.12709032,  0.        ]), (8, 3, False): array([-0.26771196, -0.11726857]), (16, 5, True): array([-0.27421048, -0.03053539]), (7, 1, False): array([-0.68338809, -0.61713289]), (4, 7, False): array([-0.19405826,  0.        ]), (20, 4, True): array([0.6488531 , 0.52481795]), (7, 8, False): array([-0.51177193, -0.42413827]), (6, 2, False): array([-0.21597308, -0.14734308]), (6, 4, False): array([-0.40337523, -0.33255572]), (30, 3, False): array([ 0.        , -0.98344637]), (5, 5, False): array([-0.14684634,  0.        ]), (16, 1, True): array([-0.63693017, -0.48671974]), (13, 7, True): array([-0.31141153, -0.00235393]), (20, 5, True): array([0.73425773, 0.71186598]), (17, 2, True): array([-0.15990439, -0.11690915]), (4, 1, False): array([-0.29502274,  0.        ]), (14, 5, True): array([-0.18879965,  0.04341435]), (16, 3, True): array([-0.29271287, -0.06551183]), (5, 8, False): array([-0.19586516,  0.        ]), (7, 5, False): array([-0.15542361, -0.11729829]), (4, 4, False): array([-0.10567203,  0.        ]), (12, 9, True): array([-0.2869083,  0.       ]), (17, 5, True): array([-0.15665607,  0.08663385]), (13, 2, True): array([-0.25425003, -0.05958737]), (13, 6, True): array([-0.04443732,  0.06487849]), (15, 6, True): array([-0.17008162,  0.17596274]), (9, 9, False): array([-0.51750155, -0.15371619]), (16, 6, True): array([-0.02285624,  0.12638694]), (13, 1, True): array([-0.32758336, -0.0786974 ]), (15, 1, True): array([-0.57201213, -0.33423706]), (17, 1, True): array([-0.62945017, -0.35677785]), (30, 2, False): array([ 0.        , -0.99409223]), (5, 2, False): array([-0.09372893,  0.        ]), (13, 5, True): array([-0.08818817,  0.05220824]), (4, 5, False): array([-0.06054017,  0.        ]), (12, 3, True): array([-0.10025452,  0.        ]), (14, 4, True): array([-0.150073  , -0.08935356]), (31, 1, False): array([ 0.        , -0.70244686]), (19, 9, True): array([0.32229315, 0.26520041]), (17, 8, True): array([-0.48426457, -0.33733953]), (18, 8, True): array([0.12846829, 0.08032979]), (27, 2, False): array([ 0.        , -0.99996845]), (4, 9, False): array([-0.07466415,  0.        ]), (27, 9, False): array([ 0., -1.]), (20, 6, True): array([0.7474711 , 0.72469143]), (5, 1, False): array([-0.39940872,  0.        ]), (12, 6, True): array([-0.01576112,  0.        ]), (12, 2, True): array([-0.05070436,  0.        ]), (12, 4, True): array([-0.09779357,  0.        ]), (13, 4, True): array([-0.11621335,  0.05694546]), (18, 2, True): array([0.28478455, 0.15327823]), (12, 5, True): array([-0.09908626,  0.        ]), (4, 8, False): array([-0.09567132,  0.        ])})\n",
      "380\n"
     ]
    }
   ],
   "source": [
    "#visulize the q values showing the numpy array\n",
    "print(Q)\n",
    "print(len(Q))"
   ]
  },
  {
   "cell_type": "code",
   "execution_count": 12,
   "id": "2bc40481",
   "metadata": {},
   "outputs": [
    {
     "data": {
      "image/png": "[encoded data removed]",
      "text/plain": [
       "<Figure size 432x288 with 1 Axes>"
      ]
     },
     "metadata": {
      "needs_background": "light"
     },
     "output_type": "display_data"
    },
    {
     "data": {
      "text/plain": [
       "'Target win rate should be around 42% which is about 0.42'"
      ]
     },
     "execution_count": 12,
     "metadata": {},
     "output_type": "execute_result"
    }
   ],
   "source": [
    "# Plot win_rate\n",
    "plot_win_rate(rewards_all_episodes, num_episodes)\n",
    "\n",
    "'''Target win rate should be around 42% which is about 0.42'''"
   ]
  },
  {
   "cell_type": "code",
   "execution_count": 13,
   "id": "2df587b6",
   "metadata": {},
   "outputs": [
    {
     "data": {
      "image/png": "[encoded data removed]",
      "text/plain": [
       "<Figure size 1080x1080 with 4 Axes>"
      ]
     },
     "metadata": {
      "needs_background": "light"
     },
     "output_type": "display_data"
    }
   ],
   "source": [
    "plot_policy(policy)"
   ]
  },
  {
   "cell_type": "markdown",
   "id": "d5f29a11",
   "metadata": {},
   "source": [
    "![True Optimal Policy](misc/optimal.png)\n"
   ]
  },
  {
   "cell_type": "code",
   "execution_count": null,
   "id": "904291eb",
   "metadata": {},
   "outputs": [],
   "source": []
  }
 ],
 "metadata": {
  "kernelspec": {
   "display_name": "Python 3 (ipykernel)",
   "language": "python",
   "name": "python3"
  },
  "language_info": {
   "codemirror_mode": {
    "name": "ipython",
    "version": 3
   },
   "file_extension": ".py",
   "mimetype": "text/x-python",
   "name": "python",
   "nbconvert_exporter": "python",
   "pygments_lexer": "ipython3",
   "version": "3.11.5"
  }
 },
 "nbformat": 4,
 "nbformat_minor": 5
}
